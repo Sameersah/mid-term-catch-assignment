{
  "nbformat": 4,
  "nbformat_minor": 0,
  "metadata": {
    "colab": {
      "provenance": [],
      "authorship_tag": "ABX9TyOX5TQcWseVKVkvC+WOOmeU",
      "include_colab_link": true
    },
    "kernelspec": {
      "name": "python3",
      "display_name": "Python 3"
    },
    "language_info": {
      "name": "python"
    }
  },
  "cells": [
    {
      "cell_type": "markdown",
      "metadata": {
        "id": "view-in-github",
        "colab_type": "text"
      },
      "source": [
        "<a href=\"https://colab.research.google.com/github/Sameersah/mid-term-catch-assignment/blob/main/c)_End2end_Mlops_System.ipynb\" target=\"_parent\"><img src=\"https://colab.research.google.com/assets/colab-badge.svg\" alt=\"Open In Colab\"/></a>"
      ]
    },
    {
      "cell_type": "markdown",
      "source": [
        "# End2end Mlops System"
      ],
      "metadata": {
        "id": "DN4_yh8Uyzt4"
      }
    },
    {
      "cell_type": "code",
      "execution_count": null,
      "metadata": {
        "id": "yxWJsEs7ywwo"
      },
      "outputs": [],
      "source": [
        "### Step 1: Install Required Libraries\n",
        "# Install necessary libraries for the MLOps pipeline\n",
        "!pip install mlflow prefect scikit-learn pandas numpy matplotlib sklearn\n",
        "\n",
        "### Step 2: Import Required Libraries\n",
        "# Import libraries for data processing, modeling, and MLOps\n",
        "import numpy as np\n",
        "import pandas as pd\n",
        "from sklearn.datasets import load_boston\n",
        "from sklearn.model_selection import train_test_split\n",
        "from sklearn.ensemble import RandomForestRegressor\n",
        "from sklearn.metrics import mean_squared_error\n",
        "import mlflow\n",
        "import mlflow.sklearn\n",
        "from prefect import flow, task\n",
        "\n",
        "### Step 3: Define the Dataset\n",
        "# Load a dataset (e.g., Boston Housing dataset)\n",
        "data = load_boston()\n",
        "X = pd.DataFrame(data.data, columns=data.feature_names)\n",
        "y = pd.Series(data.target, name=\"price\")\n",
        "\n",
        "# Split into train and test sets\n",
        "X_train, X_test, y_train, y_test = train_test_split(X, y, test_size=0.2, random_state=42)\n",
        "\n",
        "### Step 4: Set Up MLflow Tracking\n",
        "# Initialize MLflow experiment\n",
        "mlflow.set_experiment(\"end2end_mlops_system\")\n",
        "\n",
        "@task\n",
        "def train_model(X_train, y_train):\n",
        "    \"\"\"Train a Random Forest model and log it to MLflow\"\"\"\n",
        "    with mlflow.start_run():\n",
        "        model = RandomForestRegressor(n_estimators=100, random_state=42)\n",
        "        model.fit(X_train, y_train)\n",
        "        mlflow.sklearn.log_model(model, \"random_forest_model\")\n",
        "        mlflow.log_param(\"n_estimators\", 100)\n",
        "        return model\n",
        "\n",
        "@task\n",
        "def evaluate_model(model, X_test, y_test):\n",
        "    \"\"\"Evaluate the model and log metrics to MLflow\"\"\"\n",
        "    predictions = model.predict(X_test)\n",
        "    rmse = mean_squared_error(y_test, predictions, squared=False)\n",
        "    mlflow.log_metric(\"rmse\", rmse)\n",
        "    return rmse\n",
        "\n",
        "@flow\n",
        "def mlops_pipeline():\n",
        "    \"\"\"Define the complete MLOps pipeline\"\"\"\n",
        "    print(\"Starting pipeline\")\n",
        "    model = train_model(X_train, y_train)\n",
        "    rmse = evaluate_model(model, X_test, y_test)\n",
        "    print(f\"Pipeline completed. RMSE: {rmse}\")\n",
        "\n",
        "# Run the pipeline\n",
        "mlops_pipeline()\n",
        "\n",
        "### Step 5: Serve the Model\n",
        "# MLflow Model Serving\n",
        "print(\"To serve the model, use MLflow CLI:\")\n",
        "print(\"mlflow models serve -m runs:/<run_id>/random_forest_model --port 5000\")\n"
      ]
    }
  ]
}